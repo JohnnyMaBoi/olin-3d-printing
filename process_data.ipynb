{
 "cells": [
  {
   "cell_type": "markdown",
   "metadata": {},
   "source": [
    "# Data Processing\n",
    "\n",
    "### Graphs:\n",
    "- 1. Cum. Mass vs time [groupby year] [per person (divide by num students)]\n",
    "- 2. \n",
    "- 3. \n",
    "- 4. \n",
    "\n",
    "### subtasks:\n",
    "- Integrate previous name consolidations"
   ]
  },
  {
   "cell_type": "markdown",
   "metadata": {},
   "source": [
    "## Imports"
   ]
  },
  {
   "cell_type": "code",
   "execution_count": 1,
   "metadata": {},
   "outputs": [],
   "source": [
    "import pandas as pd\n",
    "from pandas.api.types import is_numeric_dtype\n",
    "import matplotlib.pyplot as plt\n",
    "import numpy as np\n",
    "import calendar"
   ]
  },
  {
   "cell_type": "markdown",
   "metadata": {},
   "source": [
    "## Load data file into pandas dataframe"
   ]
  },
  {
   "cell_type": "markdown",
   "metadata": {},
   "source": [
    "### Download Data from current Google Sheet"
   ]
  },
  {
   "cell_type": "code",
   "execution_count": 2,
   "metadata": {},
   "outputs": [
    {
     "name": "stdout",
     "output_type": "stream",
     "text": [
      "CSV file saved to: ./data/data_current.csv\n",
      "CSV file saved to: ./data/data_old_python.csv\n",
      "CSV file saved to: ./data/data_newest.csv\n"
     ]
    }
   ],
   "source": [
    "import os\n",
    "import requests\n",
    "import sys\n",
    "\n",
    "# sheet view/edit link: https://docs.google.com/spreadsheets/d/1ROWww6f3hB2OObk5Kax_cfIP3lo987lxhInNmToUtCI/edit?resourcekey#gid=549923050\n",
    "# NEWEST 3d print data https://docs.google.com/spreadsheets/d/1UYjxRt_q7meIHVxc4GUn3_DoRElXlRMey5oqHZZmJsI/edit?usp=sharing\n",
    "sheet_id = \"1ROWww6f3hB2OObk5Kax_cfIP3lo987lxhInNmToUtCI\"\n",
    "old_id = \"16gWwdpJz6Tpa92GiV3Jq7wrkmSj5Y4rFsRes-XTiOFQ\"\n",
    "newest_id = \"1UYjxRt_q7meIHVxc4GUn3_DoRElXlRMey5oqHZZmJsI\"\n",
    "def getGoogleSeet(spreadsheet_id, outDir, outFile):\n",
    "  \n",
    "  url = f'https://docs.google.com/spreadsheets/d/{spreadsheet_id}/export?format=csv'\n",
    "  response = requests.get(url)\n",
    "  if response.status_code == 200:\n",
    "    filepath = os.path.join(outDir, outFile)\n",
    "    with open(filepath, 'wb') as f:\n",
    "      f.write(response.content)\n",
    "      print('CSV file saved to: {}'.format(filepath))    \n",
    "  else:\n",
    "    print(f'Error downloading Google Sheet: {response.status_code}')\n",
    "    sys.exit(1)\n",
    "\n",
    "\n",
    "##############################################\n",
    "\n",
    "outDir = './'\n",
    "\n",
    "os.makedirs(outDir, exist_ok = True)\n",
    "filepath = getGoogleSeet(sheet_id, outDir, \"data/data_current.csv\")\n",
    "old_filepath = getGoogleSeet(old_id, outDir, \"data/data_old_python.csv\")\n",
    "newest_filepath = getGoogleSeet(newest_id, outDir, \"data/data_newest.csv\")"
   ]
  },
  {
   "cell_type": "markdown",
   "metadata": {},
   "source": [
    "### Read Data into Pandas Dataframes, clean, concat"
   ]
  },
  {
   "cell_type": "code",
   "execution_count": 29,
   "metadata": {},
   "outputs": [
    {
     "name": "stderr",
     "output_type": "stream",
     "text": [
      "/var/folders/fs/7xnvl2f16v918p54xgw1kxjm0000gn/T/ipykernel_21960/3923380138.py:31: SettingWithCopyWarning: \n",
      "A value is trying to be set on a copy of a slice from a DataFrame.\n",
      "Try using .loc[row_indexer,col_indexer] = value instead\n",
      "\n",
      "See the caveats in the documentation: https://pandas.pydata.org/pandas-docs/stable/user_guide/indexing.html#returning-a-view-versus-a-copy\n",
      "  df[\"mass\"] = df[\"mass\"].astype(float)\n",
      "/var/folders/fs/7xnvl2f16v918p54xgw1kxjm0000gn/T/ipykernel_21960/3923380138.py:31: SettingWithCopyWarning: \n",
      "A value is trying to be set on a copy of a slice from a DataFrame.\n",
      "Try using .loc[row_indexer,col_indexer] = value instead\n",
      "\n",
      "See the caveats in the documentation: https://pandas.pydata.org/pandas-docs/stable/user_guide/indexing.html#returning-a-view-versus-a-copy\n",
      "  df[\"mass\"] = df[\"mass\"].astype(float)\n",
      "/var/folders/fs/7xnvl2f16v918p54xgw1kxjm0000gn/T/ipykernel_21960/3923380138.py:31: SettingWithCopyWarning: \n",
      "A value is trying to be set on a copy of a slice from a DataFrame.\n",
      "Try using .loc[row_indexer,col_indexer] = value instead\n",
      "\n",
      "See the caveats in the documentation: https://pandas.pydata.org/pandas-docs/stable/user_guide/indexing.html#returning-a-view-versus-a-copy\n",
      "  df[\"mass\"] = df[\"mass\"].astype(float)\n",
      "/var/folders/fs/7xnvl2f16v918p54xgw1kxjm0000gn/T/ipykernel_21960/3923380138.py:31: SettingWithCopyWarning: \n",
      "A value is trying to be set on a copy of a slice from a DataFrame.\n",
      "Try using .loc[row_indexer,col_indexer] = value instead\n",
      "\n",
      "See the caveats in the documentation: https://pandas.pydata.org/pandas-docs/stable/user_guide/indexing.html#returning-a-view-versus-a-copy\n",
      "  df[\"mass\"] = df[\"mass\"].astype(float)\n"
     ]
    },
    {
     "name": "stdout",
     "output_type": "stream",
     "text": [
      "timestamp    datetime64[ns]\n",
      "name                 object\n",
      "mass                float64\n",
      "reason               object\n",
      "class                object\n",
      "dtype: object\n"
     ]
    }
   ],
   "source": [
    "### DATA CLEANING HELPER FUNCTIONS\n",
    "def fix_timestamps(df:pd.DataFrame):\n",
    "    \"\"\"\n",
    "    Convert timestamp column into pandas datetime series\n",
    "\n",
    "    Args:\n",
    "        df (pd.DataFrame): dataframe\n",
    "    \"\"\"\n",
    "    # convert timestamp column from str to pd.Timestamp\n",
    "    df['timestamp'] = pd.to_datetime(df['timestamp'])\n",
    "    \n",
    "    # drop rows with undefined timestamps\n",
    "    df = df[df[\"timestamp\"].notna()]\n",
    "\n",
    "# TODO: Fix this regex. High averages in the mass come from removing periods and considering decimal masses as ints\n",
    "def fix_print_mass(df:pd.DataFrame):\n",
    "    \"\"\"\n",
    "    Clean and convert, and rename \"print mass (grams)\" column\n",
    "\n",
    "    Args:\n",
    "        df (pd.DataFrame): dataframe\n",
    "    \"\"\"\n",
    "    # clean all alphabetic characters from print_mass col and replace empty strings with nan\n",
    "    # TODO: Fix this regex. High averages in the mass come from removing periods and considering decimal masses as ints\n",
    "    \n",
    "    if not is_numeric_dtype(df['mass']):\n",
    "        # df[\"mass\"] = df[\"mass\"].str.replace(r'[^\\d\\.]', '', regex=True).replace(r'/(\\.\\d+)+/', '', regex=True).replace('.','').replace('...','').replace('', np.nan)\n",
    "        df[\"mass\"] = df[\"mass\"].str.replace(r'\\D', '', regex=True).replace('', np.nan)\n",
    "\n",
    "    df = df[df[\"mass\"].notnull()] # remove any colums with nan print mass\n",
    "    df[\"mass\"] = df[\"mass\"].astype(float)\n",
    "\n",
    "    # filter out rediculous masses (10kg)\n",
    "    df = df[df[\"mass\"] < 10000]\n",
    "    return df\n",
    "\n",
    "def process_csv_file(path:str, rename_map:dict):\n",
    "    \"\"\"\n",
    "    Load data from csv file, store into pd dataframe, downselect and rename columns, clean data.\n",
    "    Provide `rename_map` dictionary to specify which columns to downselect to and their new names.\n",
    "\n",
    "    Args:\n",
    "        path (str): path to csv file\n",
    "        rename_map (dict {\"new col name\":\"old col name\"}): dictates which columns to put into returned dataframe\n",
    "\n",
    "    Returns:\n",
    "        pd.DataFrame: cleaned and downselected dataframe generated from csv file\n",
    "    \"\"\"\n",
    "    # read current data from csv\n",
    "    df = pd.read_csv(path)\n",
    "\n",
    "    # downselect and rename relevant columns from dataframe according to rename_map dict\n",
    "    df = df[list(rename_map.values())]                # downselect\n",
    "    # df.rename(columns = rename_map, inplace = True) # rename\n",
    "    df.columns = rename_map.keys()\n",
    "\n",
    "    # cleaning timestamps\n",
    "    fix_timestamps(df)\n",
    "\n",
    "    # clean print mass in grams column\n",
    "    df = fix_print_mass(df)\n",
    "\n",
    "    return df\n",
    "    \n",
    "# process \"very old\" data\n",
    "very_old_rename_map = {\n",
    "    \"timestamp\" : \"timestamp\",\n",
    "    \"name\"      : \"name\",\n",
    "    \"mass\"      : \"print_mass_grams\",\n",
    "    \"reason\"    : \"reason_print\",\n",
    "    \"class\"     : \"class\"\n",
    "}\n",
    "df_veryold = process_csv_file(\"data/3d_very_old.csv\", very_old_rename_map)\n",
    "df_veryold.head()\n",
    "\n",
    "# process \"old\" data\n",
    "old_rename_map = {\n",
    "    \"timestamp\" : \"Timestamp\",\n",
    "    \"name\"      : \"Your Name\",\n",
    "    \"mass\"      : \"Print Mass (in grams)\",\n",
    "    # \"reason\" : \"What are you printing for?\",\n",
    "    # \"class\"  : \"If you chose Class Project, which class? If a Project Team/Club, which group?\"\n",
    "}\n",
    "df_old = process_csv_file(\"data/data_old_python.csv\", old_rename_map)\n",
    "\n",
    "# Process \"current\" data\n",
    "curr_rename_map = {\n",
    "    \"timestamp\": \"Timestamp\",\n",
    "    \"name\"   : \"Name\",\n",
    "    \"mass\"   : \"Print Mass (in grams)\",\n",
    "    \"reason\" : \"What are you printing for?\",\n",
    "    \"class\"  : \"If you chose Class Project, which class? If a Project Team/Club, which group?\"\n",
    "}\n",
    "df_curr = process_csv_file(\"data/data_current.csv\", curr_rename_map)\n",
    "\n",
    "# Process \"very new\" data\n",
    "newest_rename_map = {\n",
    "    \"timestamp\": \"Start time\",\n",
    "    \"name\"   : \"Your Name\",\n",
    "    \"mass\"   : \"Print Mass (Grams)\",\n",
    "    \"reason\" : \"Reason For Print\",\n",
    "    \"class\"  : \"If applicable, which class, research group, or project team?\"\n",
    "}\n",
    "df_newest = process_csv_file(\"data/data_current.csv\", curr_rename_map)\n",
    "df_newest.head()\n",
    "\n",
    "\n",
    "# concat all data\n",
    "df = pd.concat([df_veryold, df_old, df_curr, df_newest])\n",
    "\n",
    "# sort data by timestamp\n",
    "df.sort_values(by=\"timestamp\", inplace=True)\n",
    "df.to_csv(path_or_buf=\"data/rajiv_output.csv\")\n",
    "\n",
    "print(df.dtypes)"
   ]
  },
  {
   "cell_type": "markdown",
   "metadata": {},
   "source": [
    "## print mass vs time"
   ]
  },
  {
   "cell_type": "markdown",
   "metadata": {},
   "source": [
    "### Cumulative Mass"
   ]
  },
  {
   "cell_type": "code",
   "execution_count": 30,
   "metadata": {},
   "outputs": [
    {
     "name": "stderr",
     "output_type": "stream",
     "text": [
      "/var/folders/fs/7xnvl2f16v918p54xgw1kxjm0000gn/T/ipykernel_21960/346725844.py:5: SettingWithCopyWarning: \n",
      "A value is trying to be set on a copy of a slice from a DataFrame.\n",
      "Try using .loc[row_indexer,col_indexer] = value instead\n",
      "\n",
      "See the caveats in the documentation: https://pandas.pydata.org/pandas-docs/stable/user_guide/indexing.html#returning-a-view-versus-a-copy\n",
      "  df_print_mass[\"print_mass_cum\"] = df_print_mass[\"mass\"].cumsum()\n"
     ]
    },
    {
     "data": {
      "image/png": "[encoded data removed]",
      "text/plain": [
       "<Figure size 1000x600 with 1 Axes>"
      ]
     },
     "metadata": {},
     "output_type": "display_data"
    }
   ],
   "source": [
    "# create new dataframe with copies of timestamp and print_mass_grams columns\n",
    "df_print_mass = df[[\"timestamp\", \"mass\"]]\n",
    "\n",
    "# add column for cumulative sum of print masses\n",
    "df_print_mass[\"print_mass_cum\"] = df_print_mass[\"mass\"].cumsum()\n",
    "\n",
    "# Create a line plot using Matplotlib\n",
    "plt.figure(figsize=(10, 6))  # Optional: Set the figure size\n",
    "plt.plot(df_print_mass['timestamp'], df_print_mass[\"print_mass_cum\"].div(1000), linestyle='-', color='b', label='print_mass_grams vs. Time')\n",
    "plt.title(\"Print mass vs. Time\")\n",
    "plt.xlabel('Time')\n",
    "plt.ylabel(\"Cumulative print mass (kg)\")\n",
    "plt.legend()\n",
    "plt.grid(True)\n",
    "\n",
    "# Display the plot\n",
    "plt.show()"
   ]
  },
  {
   "cell_type": "markdown",
   "metadata": {},
   "source": [
    "### Groupby Year"
   ]
  },
  {
   "cell_type": "code",
   "execution_count": 23,
   "metadata": {},
   "outputs": [
    {
     "data": {
      "text/plain": [
       "count    3009.000000\n",
       "mean        0.482850\n",
       "std         2.085629\n",
       "min         0.000000\n",
       "25%         0.034582\n",
       "50%         0.088496\n",
       "75%         0.221239\n",
       "max        64.053097\n",
       "Name: normalized mass, dtype: float64"
      ]
     },
     "execution_count": 23,
     "metadata": {},
     "output_type": "execute_result"
    }
   ],
   "source": [
    "# function to groupby academic year\n",
    "def get_academic_year(timestamp:pd.Timestamp):\n",
    "    \"\"\"\n",
    "    Return the academic year string of a timestamp\n",
    "\n",
    "    Args:\n",
    "        timestamp (pd.Timestamp): timestamp object\n",
    "\n",
    "    Returns:\n",
    "        str: Academic year string, e.g. \"21/22\"\n",
    "    \"\"\"\n",
    "    year = int(repr(timestamp.year)[-2:]) # lat two digits of year\n",
    "    if timestamp.month < 9: # before september: year-1/year\n",
    "        return f\"{year-1}/{year}\"\n",
    "    else:                   # after september: year/year+1\n",
    "        return f\"{year}/{year+1}\"\n",
    "\n",
    "def get_semester(timestamp:pd.Timestamp):\n",
    "    \"\"\"\n",
    "    Return the semester string of a timestamp\n",
    "\n",
    "    Args:\n",
    "        timestamp (pd.Timestamp): timestamp object\n",
    "\n",
    "    Returns:\n",
    "        str: Semester string, e.g. \"SP21\"\n",
    "    \"\"\"\n",
    "    year = int(repr(timestamp.year)[-2:]) # lat two digits of year\n",
    "    if 1 <= timestamp.month <= 5: # before september spring semester\n",
    "        return f\"SP{year}\"\n",
    "    elif 9 <= timestamp.month <= 12:                   # after september: fall semester\n",
    "        return f\"FA{year}\"\n",
    "\n",
    "def get_population_on_campus(semester:str, population_dict=None):\n",
    "    \"\"\"\n",
    "    Return the \"population\" for each entry, population on campus at that time\n",
    "    \n",
    "    Args:\n",
    "        df (pandas dataframe): relevant rows are semester (str) and mass (float)\n",
    "            semester (str): string of 2 alpha character semester (FA or SP) followed by 2 numeric character year (i.e. 19 or 20)\n",
    "            mass (float): float of mass in grams\n",
    "        population_dict (optional): dict with semester as keys and number of people as values. Can be used to override manually \n",
    "            inputted person mapping with number of individuals printing per semester\n",
    "            TODO: add number of people printing per semester calculation after scatter plotting is completed\n",
    "    Returns:\n",
    "        normalized_mass (float)): mass of print divided by number of people currently on campus\n",
    "    \"\"\"\n",
    "    # if you don't have an inputted mapping for students per semester, use the default\n",
    "    if not population_dict:\n",
    "        population_dict = {\"FA18\":340, \"SP19\":326, \"FA19\":347, \"SP20\":333, \"FA20\":113, \"SP21\":113, \"FA21\":360, \"FA22\":347}\n",
    "    if semester in population_dict: # before september spring semester\n",
    "        return population_dict[semester]\n",
    "    else:                   # after september: fall semester\n",
    "        # print(f\"{semester} not in population dict!\")\n",
    "        return np.nan\n",
    "\n",
    "# add aacademic year column to df\n",
    "df[\"academic year\"] = df[\"timestamp\"].apply(lambda x: get_academic_year(x))\n",
    "df[\"semester\"] = df[\"timestamp\"].apply(lambda x: get_semester(x))\n",
    "df[\"population on campus\"] = df[\"semester\"].apply(lambda x: get_population_on_campus(x))\n",
    "df[\"normalized mass\"] = df[\"mass\"].divide(df[\"population on campus\"])\n",
    "df[\"normalized mass\"].describe()"
   ]
  },
  {
   "cell_type": "code",
   "execution_count": 24,
   "metadata": {},
   "outputs": [
    {
     "name": "stdout",
     "output_type": "stream",
     "text": [
      "cycler('color', ['#1f77b4', '#ff7f0e', '#2ca02c', '#d62728', '#9467bd', '#8c564b', '#e377c2', '#7f7f7f', '#bcbd22', '#17becf'])\n"
     ]
    }
   ],
   "source": [
    "print(plt.rcParams[\"axes.prop_cycle\"])"
   ]
  },
  {
   "cell_type": "code",
   "execution_count": 25,
   "metadata": {},
   "outputs": [
    {
     "data": {
      "image/png": "[encoded data removed]",
      "text/plain": [
       "<Figure size 1000x600 with 1 Axes>"
      ]
     },
     "metadata": {},
     "output_type": "display_data"
    },
    {
     "data": {
      "text/html": [
       "<div>\n",
       "<style scoped>\n",
       "    .dataframe tbody tr th:only-of-type {\n",
       "        vertical-align: middle;\n",
       "    }\n",
       "\n",
       "    .dataframe tbody tr th {\n",
       "        vertical-align: top;\n",
       "    }\n",
       "\n",
       "    .dataframe thead th {\n",
       "        text-align: right;\n",
       "    }\n",
       "</style>\n",
       "<table border=\"1\" class=\"dataframe\">\n",
       "  <thead>\n",
       "    <tr style=\"text-align: right;\">\n",
       "      <th></th>\n",
       "      <th>timestamp</th>\n",
       "      <th>name</th>\n",
       "      <th>mass</th>\n",
       "      <th>class</th>\n",
       "      <th>academic year</th>\n",
       "      <th>semester</th>\n",
       "      <th>population on campus</th>\n",
       "      <th>normalized mass</th>\n",
       "    </tr>\n",
       "  </thead>\n",
       "  <tbody>\n",
       "    <tr>\n",
       "      <th>0</th>\n",
       "      <td>2014-10-08 22:02:37</td>\n",
       "      <td>Ankur Das</td>\n",
       "      <td>3253.0</td>\n",
       "      <td>NaN</td>\n",
       "      <td>14/15</td>\n",
       "      <td>FA14</td>\n",
       "      <td>NaN</td>\n",
       "      <td>NaN</td>\n",
       "    </tr>\n",
       "    <tr>\n",
       "      <th>1</th>\n",
       "      <td>2014-10-10 11:00:19</td>\n",
       "      <td>Victoria Preston</td>\n",
       "      <td>1099.0</td>\n",
       "      <td>NaN</td>\n",
       "      <td>14/15</td>\n",
       "      <td>FA14</td>\n",
       "      <td>NaN</td>\n",
       "      <td>NaN</td>\n",
       "    </tr>\n",
       "    <tr>\n",
       "      <th>2</th>\n",
       "      <td>2014-10-10 11:09:53</td>\n",
       "      <td>Jacob Riedel</td>\n",
       "      <td>992.0</td>\n",
       "      <td>NaN</td>\n",
       "      <td>14/15</td>\n",
       "      <td>FA14</td>\n",
       "      <td>NaN</td>\n",
       "      <td>NaN</td>\n",
       "    </tr>\n",
       "    <tr>\n",
       "      <th>3</th>\n",
       "      <td>2014-10-10 12:27:10</td>\n",
       "      <td>Jacob Riedel</td>\n",
       "      <td>529.0</td>\n",
       "      <td>NaN</td>\n",
       "      <td>14/15</td>\n",
       "      <td>FA14</td>\n",
       "      <td>NaN</td>\n",
       "      <td>NaN</td>\n",
       "    </tr>\n",
       "    <tr>\n",
       "      <th>4</th>\n",
       "      <td>2014-10-10 12:37:15</td>\n",
       "      <td>Jacob Riedel</td>\n",
       "      <td>529.0</td>\n",
       "      <td>NaN</td>\n",
       "      <td>14/15</td>\n",
       "      <td>FA14</td>\n",
       "      <td>NaN</td>\n",
       "      <td>NaN</td>\n",
       "    </tr>\n",
       "  </tbody>\n",
       "</table>\n",
       "</div>"
      ],
      "text/plain": [
       "            timestamp              name    mass class academic year semester  \\\n",
       "0 2014-10-08 22:02:37         Ankur Das  3253.0   NaN         14/15     FA14   \n",
       "1 2014-10-10 11:00:19  Victoria Preston  1099.0   NaN         14/15     FA14   \n",
       "2 2014-10-10 11:09:53      Jacob Riedel   992.0   NaN         14/15     FA14   \n",
       "3 2014-10-10 12:27:10      Jacob Riedel   529.0   NaN         14/15     FA14   \n",
       "4 2014-10-10 12:37:15      Jacob Riedel   529.0   NaN         14/15     FA14   \n",
       "\n",
       "   population on campus  normalized mass  \n",
       "0                   NaN              NaN  \n",
       "1                   NaN              NaN  \n",
       "2                   NaN              NaN  \n",
       "3                   NaN              NaN  \n",
       "4                   NaN              NaN  "
      ]
     },
     "execution_count": 25,
     "metadata": {},
     "output_type": "execute_result"
    }
   ],
   "source": [
    "def get_ac_year_day(timestamp: pd.Timestamp):\n",
    "    \"\"\"\n",
    "    Get day of the academic year\n",
    "\n",
    "    Args:\n",
    "        timestamp (pd.Timestamp): timestamp to convert\n",
    "    \"\"\"\n",
    "    if timestamp.month >=9:\n",
    "       return timestamp.day_of_year - 244\n",
    "    else:\n",
    "        return timestamp.day_of_year + 365 - 244\n",
    "\n",
    "# Set up plot\n",
    "plt.figure(figsize=(10, 6))  # Optional: Set the figure size\n",
    "# fig, (ax1, ax2) = plt.subplots(1, 2, sharey=True)\n",
    "\n",
    "plt.xlabel('date')\n",
    "plt.grid(True)\n",
    "\n",
    "\n",
    "\n",
    "# group data by academic semester\n",
    "sem_groupby = df.groupby('semester')[[\"timestamp\", \"mass\", \"normalized mass\"]]\n",
    "\n",
    "p_year = 14\n",
    "color = \"blue\"\n",
    "\n",
    "# plot for each academic year on same axes\n",
    "for sem, _df in sem_groupby:\n",
    "    # if sem in [\"14/15\", \"15/16\", \"16/17\", \"17/18\", \"23/24\", \"22/23\"]:    #\"17/18\",, \"19/20\", \"18/19\", \"20/21\"]\n",
    "    #     pass\n",
    "    # else:\n",
    "    #     # plt.plot(_df[\"timestamp\"].apply(lambda x: get_ac_year_day(x)), _df[\"mass\"].cumsum(), label=f'{ac_year}')\n",
    "    #     plt.plot(_df[\"timestamp\"].apply(lambda x: get_ac_year_day(x)), _df[\"mass\"].cumsum(), label=f'{sem[:2]}')\n",
    "    year = sem[-2:]\n",
    "\n",
    "    # # cycle color\n",
    "    # if year != p_year:\n",
    "    #     color = next(ax1._get_lines.prop_cycler)['color']\n",
    "\n",
    "    # p_year = year\n",
    "\n",
    "    if year in [\"14\"]:    #\"17/18\",, \"19/20\", \"18/19\", \"20/21\"]\n",
    "        pass\n",
    "    else:\n",
    "        plt.plot(_df[\"timestamp\"].apply(lambda x: get_ac_year_day(x)), _df[\"normalized mass\"].cumsum(), label=f'{sem}')\n",
    "\n",
    "# Set y-axis label for left subplot only\n",
    "plt.title('Cumulative print mass (g)')\n",
    "# plt.set_title(\"Fall\")\n",
    "# plt.set_title(\"Spring\")\n",
    "# plt.title(\"Cumulative Print mass vs. date by academic year and semester\")\n",
    "# Add title to subplot\n",
    "# plt.suptitle(' Cumulative Print mass vs. date by academic year and semester ', fontsize=20)\n",
    "\n",
    "# Display the plot\n",
    "plt.legend(title=\"Academic Year\")\n",
    "# plt.legend(title=\"Academic Year\")\n",
    "plt.show()\n",
    "\n",
    "df.head()\n"
   ]
  },
  {
   "cell_type": "markdown",
   "metadata": {},
   "source": [
    "### Class/Reason Data Bar Charts"
   ]
  },
  {
   "cell_type": "code",
   "execution_count": 26,
   "metadata": {},
   "outputs": [
    {
     "name": "stdout",
     "output_type": "stream",
     "text": [
      "year is 18/19\n",
      "year is 19/20\n",
      "year is 20/21\n",
      "year is 21/22\n",
      "year is 22/23\n"
     ]
    },
    {
     "data": {
      "image/png": "[encoded data removed]",
      "text/plain": [
       "<Figure size 1000x600 with 1 Axes>"
      ]
     },
     "metadata": {},
     "output_type": "display_data"
    }
   ],
   "source": [
    "# Set up plot\n",
    "plt.figure(figsize=(10, 6))  # Optional: Set the figure size\n",
    "plt.title(\"Filament Used Per Semester\")         # Per reason\n",
    "plt.xlabel('date')\n",
    "plt.ylabel(\"Cumulative print mass (g)\")\n",
    "plt.grid(True)\n",
    "\n",
    "\n",
    "\n",
    "# group data by academic year\n",
    "sem_groupby = df.groupby('academic year')[[\"timestamp\", \"mass\"]]\n",
    "\n",
    "# plot for each academic year on same axes\n",
    "for sem, _df in sem_groupby:\n",
    "    if sem in [\"14/15\", \"15/16\", \"16/17\", \"17/18\", \"23/24\"]:    #\"17/18\",, \"19/20\", \"18/19\", \"20/21\", \"22/23\"\n",
    "        pass\n",
    "    else:\n",
    "        print(f\"year is {sem}\")\n",
    "        plt.plot(_df[\"timestamp\"].apply(lambda x: get_ac_year_day(x)), _df[\"mass\"].cumsum(), label=f'{sem}')\n",
    "    # print(_df.head())\n",
    "\n",
    "# Display the plot\n",
    "plt.legend(title=\"Academic Year\")\n",
    "plt.show()\n"
   ]
  },
  {
   "cell_type": "markdown",
   "metadata": {},
   "source": [
    "## Class Consumption By Semester Bar Graph"
   ]
  },
  {
   "cell_type": "markdown",
   "metadata": {},
   "source": [
    "### Print Reason"
   ]
  },
  {
   "cell_type": "code",
   "execution_count": 31,
   "metadata": {},
   "outputs": [
    {
     "data": {
      "text/plain": [
       "0          Research\n",
       "1       Class/SCOPE\n",
       "2       Class/SCOPE\n",
       "3       Class/SCOPE\n",
       "4       Class/SCOPE\n",
       "           ...     \n",
       "1173     Test Piece\n",
       "1173     Test Piece\n",
       "1174     Test Piece\n",
       "1174     Test Piece\n",
       "1083       Personal\n",
       "Name: reason, Length: 8230, dtype: object"
      ]
     },
     "execution_count": 31,
     "metadata": {},
     "output_type": "execute_result"
    }
   ],
   "source": [
    "df[\"reason\"]"
   ]
  },
  {
   "cell_type": "markdown",
   "metadata": {},
   "source": [
    "### Deal with class names"
   ]
  },
  {
   "cell_type": "code",
   "execution_count": 32,
   "metadata": {},
   "outputs": [
    {
     "data": {
      "text/html": [
       "<div>\n",
       "<style scoped>\n",
       "    .dataframe tbody tr th:only-of-type {\n",
       "        vertical-align: middle;\n",
       "    }\n",
       "\n",
       "    .dataframe tbody tr th {\n",
       "        vertical-align: top;\n",
       "    }\n",
       "\n",
       "    .dataframe thead th {\n",
       "        text-align: right;\n",
       "    }\n",
       "</style>\n",
       "<table border=\"1\" class=\"dataframe\">\n",
       "  <thead>\n",
       "    <tr style=\"text-align: right;\">\n",
       "      <th></th>\n",
       "      <th>timestamp</th>\n",
       "      <th>name</th>\n",
       "      <th>mass</th>\n",
       "      <th>class</th>\n",
       "      <th>academic year</th>\n",
       "      <th>semester</th>\n",
       "      <th>population on campus</th>\n",
       "      <th>normalized mass</th>\n",
       "      <th>class names corrected</th>\n",
       "    </tr>\n",
       "  </thead>\n",
       "  <tbody>\n",
       "    <tr>\n",
       "      <th>0</th>\n",
       "      <td>2014-10-08 22:02:37</td>\n",
       "      <td>Ankur Das</td>\n",
       "      <td>3253.0</td>\n",
       "      <td>NaN</td>\n",
       "      <td>14/15</td>\n",
       "      <td>FA14</td>\n",
       "      <td>NaN</td>\n",
       "      <td>NaN</td>\n",
       "      <td>NaN</td>\n",
       "    </tr>\n",
       "    <tr>\n",
       "      <th>1</th>\n",
       "      <td>2014-10-10 11:00:19</td>\n",
       "      <td>Victoria Preston</td>\n",
       "      <td>1099.0</td>\n",
       "      <td>NaN</td>\n",
       "      <td>14/15</td>\n",
       "      <td>FA14</td>\n",
       "      <td>NaN</td>\n",
       "      <td>NaN</td>\n",
       "      <td>NaN</td>\n",
       "    </tr>\n",
       "    <tr>\n",
       "      <th>2</th>\n",
       "      <td>2014-10-10 11:09:53</td>\n",
       "      <td>Jacob Riedel</td>\n",
       "      <td>992.0</td>\n",
       "      <td>NaN</td>\n",
       "      <td>14/15</td>\n",
       "      <td>FA14</td>\n",
       "      <td>NaN</td>\n",
       "      <td>NaN</td>\n",
       "      <td>NaN</td>\n",
       "    </tr>\n",
       "    <tr>\n",
       "      <th>3</th>\n",
       "      <td>2014-10-10 12:27:10</td>\n",
       "      <td>Jacob Riedel</td>\n",
       "      <td>529.0</td>\n",
       "      <td>NaN</td>\n",
       "      <td>14/15</td>\n",
       "      <td>FA14</td>\n",
       "      <td>NaN</td>\n",
       "      <td>NaN</td>\n",
       "      <td>NaN</td>\n",
       "    </tr>\n",
       "    <tr>\n",
       "      <th>4</th>\n",
       "      <td>2014-10-10 12:37:15</td>\n",
       "      <td>Jacob Riedel</td>\n",
       "      <td>529.0</td>\n",
       "      <td>NaN</td>\n",
       "      <td>14/15</td>\n",
       "      <td>FA14</td>\n",
       "      <td>NaN</td>\n",
       "      <td>NaN</td>\n",
       "      <td>NaN</td>\n",
       "    </tr>\n",
       "  </tbody>\n",
       "</table>\n",
       "</div>"
      ],
      "text/plain": [
       "            timestamp              name    mass class academic year semester  \\\n",
       "0 2014-10-08 22:02:37         Ankur Das  3253.0   NaN         14/15     FA14   \n",
       "1 2014-10-10 11:00:19  Victoria Preston  1099.0   NaN         14/15     FA14   \n",
       "2 2014-10-10 11:09:53      Jacob Riedel   992.0   NaN         14/15     FA14   \n",
       "3 2014-10-10 12:27:10      Jacob Riedel   529.0   NaN         14/15     FA14   \n",
       "4 2014-10-10 12:37:15      Jacob Riedel   529.0   NaN         14/15     FA14   \n",
       "\n",
       "   population on campus  normalized mass class names corrected  \n",
       "0                   NaN              NaN                   NaN  \n",
       "1                   NaN              NaN                   NaN  \n",
       "2                   NaN              NaN                   NaN  \n",
       "3                   NaN              NaN                   NaN  \n",
       "4                   NaN              NaN                   NaN  "
      ]
     },
     "execution_count": 32,
     "metadata": {},
     "output_type": "execute_result"
    }
   ],
   "source": [
    "def correct_series(series, map:dict):\n",
    "    \"\"\"\n",
    "    Iterate through each correct value in the map dictionary,\n",
    "    performing a regex string replacement on the series that\n",
    "    overwrites any matching value with the coorect value given\n",
    "    by the map\n",
    "\n",
    "    Args:\n",
    "        series (pandas series): series to be corrected\n",
    "        map (dict): dictionary that maps correction keys to \n",
    "                    a regex expression targeting incorrect\n",
    "                    values (<correct value> : <regex query for misnomers>)\n",
    "    \n",
    "    Return:\n",
    "        (pandas series): corrected pandas series\n",
    "    \"\"\"\n",
    "    for correction_key in map:\n",
    "        series = series.str.replace(map[correction_key], correction_key, regex=True, case=False)\n",
    "    \n",
    "    return series\n",
    "\n",
    "# dictionary for defining name correction map\n",
    "class_names_correction_map = {\n",
    "    \"DesNat\" : \"Desnat|desnT|DesNat|dednat|Des Nat|ddesnat|desnat|desNat|Design Nature\",\n",
    "    \"Pass. Pursuit\" : \"passion.*\",\n",
    "    \"PIE\" : \"pie.*\",\n",
    "    \"DFM\" : \"dfm|.*manufact.*\",\n",
    "    \"Scope\" : \".*scope.*\",\n",
    "    \"IS\" : \".*indep.*|is.*\",\n",
    "    \"Ren. Energy\" : \".*renewable.*\",\n",
    "    \"EEC\" : \".*eec.*\",\n",
    "    \"Mech Proto\" : \".*proto.*|Mech Proto\",\n",
    "    \"QEA\" : \".*qea.*\",\n",
    "    \"Research\" : \".*research.*|.*lair.*\",\n",
    "    \"P&M\" : \".*market.*|p&.*|p[[:space:]]&.*|p &m\",\n",
    "    \"SustDes\" : \".*sust.*\",\n",
    "    \"RoboSys\" : \".*robos.*|.*Robotic System*.\",\n",
    "    \"DBF\" : \".*dbf.*|design[[:space:]]bu.*\",\n",
    "    \"Formula\" : \"formula\",\n",
    "    \"Large 3D Printer\" : \".*rint*.\",\n",
    "    \"Project Team or Club\" : \"DBF|Formula|Rocketry|Baja|pint\"\n",
    "}\n",
    "\n",
    "\n",
    "# correct class names\n",
    "df[\"class names corrected\"] = correct_series(df[\"class\"], class_names_correction_map)\n",
    "\n",
    "df.head()\n",
    "\n",
    "# groupby class name\n",
    "\n",
    "# print(len(class_names.unique()), class_names.unique())"
   ]
  },
  {
   "cell_type": "markdown",
   "metadata": {},
   "source": [
    "### Create Bar Graph Plot"
   ]
  },
  {
   "cell_type": "code",
   "execution_count": null,
   "metadata": {},
   "outputs": [],
   "source": []
  },
  {
   "cell_type": "markdown",
   "metadata": {},
   "source": [
    "## Deal with student names?"
   ]
  },
  {
   "cell_type": "code",
   "execution_count": 29,
   "metadata": {},
   "outputs": [],
   "source": [
    "# do later, holy shit"
   ]
  },
  {
   "cell_type": "markdown",
   "metadata": {},
   "source": []
  }
 ],
 "metadata": {
  "kernelspec": {
   "display_name": "Python 3",
   "language": "python",
   "name": "python3"
  },
  "language_info": {
   "codemirror_mode": {
    "name": "ipython",
    "version": 3
   },
   "file_extension": ".py",
   "mimetype": "text/x-python",
   "name": "python",
   "nbconvert_exporter": "python",
   "pygments_lexer": "ipython3",
   "version": "3.9.7"
  },
  "orig_nbformat": 4
 },
 "nbformat": 4,
 "nbformat_minor": 2
}
